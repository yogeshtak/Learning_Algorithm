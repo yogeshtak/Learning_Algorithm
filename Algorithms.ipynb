{
 "cells": [
  {
   "cell_type": "markdown",
   "metadata": {
    "collapsed": true,
    "pycharm": {
     "is_executing": false
    }
   },
   "source": [
    "## Binary Search"
   ]
  },
  {
   "cell_type": "code",
   "execution_count": 1,
   "metadata": {
    "pycharm": {
     "is_executing": false,
     "name": "#%%\n"
    }
   },
   "outputs": [],
   "source": [
    "def binary_search(item_list, item):\n",
    "    min = 0\n",
    "    max = len(item_list) - 1\n",
    "    found = False\n",
    "    while (min <= max and not found):\n",
    "        mid = (min+max)//2\n",
    "        if item_list[mid] == item:\n",
    "            found = True\n",
    "            \n",
    "        else:\n",
    "            if item < item_list[mid]:\n",
    "                max = mid - 1\n",
    "            else:\n",
    "                min = mid + 1\n",
    "    return found\n"
   ]
  },
  {
   "cell_type": "code",
   "execution_count": 6,
   "metadata": {},
   "outputs": [
    {
     "data": {
      "text/plain": [
       "False"
      ]
     },
     "execution_count": 6,
     "metadata": {},
     "output_type": "execute_result"
    }
   ],
   "source": [
    "binary_search([1,2,3,4,5,6,7,8,9,10], 11)"
   ]
  },
  {
   "cell_type": "markdown",
   "metadata": {},
   "source": [
    "https://www.w3resource.com/python-exercises/data-structures-and-algorithms/python-search-and-sorting-exercise-1.php\n",
    "\n",
    "https://www.geeksforgeeks.org/searching-algorithms/\n"
   ]
  },
  {
   "cell_type": "markdown",
   "metadata": {},
   "source": [
    "## Selection Sort"
   ]
  },
  {
   "cell_type": "code",
   "execution_count": 2,
   "metadata": {},
   "outputs": [],
   "source": [
    "import sys"
   ]
  },
  {
   "cell_type": "code",
   "execution_count": 3,
   "metadata": {},
   "outputs": [],
   "source": [
    "def selection_sort(list):\n",
    "    \n",
    "    for i in range(len(list)):\n",
    "        \n",
    "        mini = i\n",
    "        for j in range(i+1, len(list)):\n",
    "            if list[mini] > list[j]:\n",
    "                mini = j\n",
    "                \n",
    "        list[i],list[mini] = list[mini], list[i]\n",
    "    \n",
    "    print(\"Sorted Array\")\n",
    "    print(list)"
   ]
  },
  {
   "cell_type": "code",
   "execution_count": 4,
   "metadata": {},
   "outputs": [
    {
     "name": "stdout",
     "output_type": "stream",
     "text": [
      "Sorted Array\n",
      "[11, 34, 45]\n"
     ]
    }
   ],
   "source": [
    "selection_sort([11,45,34])"
   ]
  },
  {
   "cell_type": "code",
   "execution_count": null,
   "metadata": {},
   "outputs": [],
   "source": []
  }
 ],
 "metadata": {
  "kernelspec": {
   "display_name": "Python 3",
   "language": "python",
   "name": "python3"
  },
  "language_info": {
   "codemirror_mode": {
    "name": "ipython",
    "version": 3
   },
   "file_extension": ".py",
   "mimetype": "text/x-python",
   "name": "python",
   "nbconvert_exporter": "python",
   "pygments_lexer": "ipython3",
   "version": "3.7.1"
  },
  "pycharm": {
   "stem_cell": {
    "cell_type": "raw",
    "metadata": {
     "collapsed": false
    },
    "source": []
   }
  }
 },
 "nbformat": 4,
 "nbformat_minor": 1
}
