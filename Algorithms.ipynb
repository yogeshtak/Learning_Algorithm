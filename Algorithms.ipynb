{
 "cells": [
  {
   "cell_type": "markdown",
   "metadata": {
    "collapsed": true,
    "pycharm": {
     "is_executing": false
    }
   },
   "source": [
    "## Binary Search\n",
    "\n",
    "**Always Visualize your code** \n",
    " http://www.pythontutor.com/visualize.html#mode=edit"
   ]
  },
  {
   "cell_type": "code",
   "execution_count": 1,
   "metadata": {
    "pycharm": {
     "name": "#%%\n"
    }
   },
   "outputs": [],
   "source": [
    "def binary_search(item_list, item):\n",
    "    min = 0\n",
    "    max = len(item_list) - 1\n",
    "    found = False\n",
    "    \n",
    "    while (min <= max and not found):\n",
    "        mid = (min+max)//2\n",
    "        if item_list[mid] == item:\n",
    "            found = True\n",
    "            \n",
    "        else:\n",
    "            if item < item_list[mid]:\n",
    "                max = mid - 1\n",
    "            else:\n",
    "                min = mid + 1\n",
    "    return found\n"
   ]
  },
  {
   "cell_type": "code",
   "execution_count": 6,
   "metadata": {},
   "outputs": [
    {
     "data": {
      "text/plain": [
       "False"
      ]
     },
     "execution_count": 6,
     "metadata": {},
     "output_type": "execute_result"
    }
   ],
   "source": [
    "binary_search([1,2,3,4,5,6,7,8,9,10], 11)"
   ]
  },
  {
   "cell_type": "markdown",
   "metadata": {},
   "source": [
    "https://www.w3resource.com/python-exercises/data-structures-and-algorithms/python-search-and-sorting-exercise-1.php\n",
    "\n",
    "https://www.geeksforgeeks.org/searching-algorithms/\n"
   ]
  },
  {
   "cell_type": "markdown",
   "metadata": {},
   "source": [
    "## Selection Sort\n",
    "**Always Visualize your code** \n",
    "http://www.pythontutor.com/visualize.html#mode=edit"
   ]
  },
  {
   "cell_type": "code",
   "execution_count": 2,
   "metadata": {},
   "outputs": [],
   "source": [
    "import sys"
   ]
  },
  {
   "cell_type": "code",
   "execution_count": 3,
   "metadata": {},
   "outputs": [],
   "source": [
    "def selection_sort(list):\n",
    "    \n",
    "    for i in range(len(list)):\n",
    "        \n",
    "        mini = i\n",
    "        for j in range(i+1, len(list)):\n",
    "            if list[mini] > list[j]:\n",
    "                mini = j\n",
    "                \n",
    "        list[i],list[mini] = list[mini], list[i]\n",
    "    \n",
    "    print(\"Sorted Array\")\n",
    "    print(list)"
   ]
  },
  {
   "cell_type": "code",
   "execution_count": 4,
   "metadata": {},
   "outputs": [
    {
     "name": "stdout",
     "output_type": "stream",
     "text": [
      "Sorted Array\n",
      "[11, 34, 45]\n"
     ]
    }
   ],
   "source": [
    "selection_sort([11,45,34])"
   ]
  },
  {
   "cell_type": "markdown",
   "metadata": {},
   "source": [
    "## Insertion Sort\n",
    "\n",
    "<img src=\"https://www.w3resource.com/w3r_images/insertion-sort.png\">\n",
    "\n",
    "**Always Visualize your code** \n",
    "http://www.pythontutor.com/visualize.html#mode=edit"
   ]
  },
  {
   "cell_type": "code",
   "execution_count": 17,
   "metadata": {},
   "outputs": [],
   "source": [
    "def insertionSort(list):\n",
    "    for i in range(1,len(list)):\n",
    "        key = list[i]\n",
    "        j = i-1\n",
    "        while j >= 0 and key < list[j]:\n",
    "            list[j+1] = list[j]\n",
    "            j -= 1\n",
    "        list[j+1] = key"
   ]
  },
  {
   "cell_type": "code",
   "execution_count": 25,
   "metadata": {},
   "outputs": [],
   "source": [
    "#this one is wrong, it is just comparing one index elemnet with the next one, so we need while loop\n",
    "def insertionsort2(list):\n",
    "    for i in range(1,len(list)):\n",
    "        \n",
    "        key = list[i]\n",
    "        position = i-1\n",
    "        \n",
    "        while position >= 0 and list[position] > key:\n",
    "            list[position +1] = list[position]\n",
    "            position -= 1\n",
    "         \n",
    "        list[position +1] = key"
   ]
  },
  {
   "cell_type": "code",
   "execution_count": 26,
   "metadata": {},
   "outputs": [],
   "source": [
    "list1 = [1,3,2,14,26,43,27,57,42,45,21,70]"
   ]
  },
  {
   "cell_type": "code",
   "execution_count": 27,
   "metadata": {},
   "outputs": [],
   "source": [
    "insertionsort2(list1)"
   ]
  },
  {
   "cell_type": "code",
   "execution_count": 28,
   "metadata": {},
   "outputs": [
    {
     "name": "stdout",
     "output_type": "stream",
     "text": [
      "[1, 2, 3, 14, 21, 26, 27, 42, 43, 45, 57, 70]\n"
     ]
    }
   ],
   "source": [
    "print(list1)"
   ]
  },
  {
   "cell_type": "markdown",
   "metadata": {},
   "source": [
    "**Always Visualize your code** \n",
    "http://www.pythontutor.com/visualize.html#mode=edit"
   ]
  },
  {
   "cell_type": "markdown",
   "metadata": {},
   "source": [
    "## Recursion\n",
    "\n",
    "### Factorial Function"
   ]
  },
  {
   "cell_type": "code",
   "execution_count": 29,
   "metadata": {},
   "outputs": [],
   "source": [
    "def recursion_factorial(n):\n",
    "    if n==1:\n",
    "        return n\n",
    "    else:\n",
    "        return n*recursion_factorial(n-1)"
   ]
  },
  {
   "cell_type": "code",
   "execution_count": 30,
   "metadata": {},
   "outputs": [
    {
     "data": {
      "text/plain": [
       "120"
      ]
     },
     "execution_count": 30,
     "metadata": {},
     "output_type": "execute_result"
    }
   ],
   "source": [
    "recursion_factorial(5)"
   ]
  },
  {
   "cell_type": "code",
   "execution_count": 37,
   "metadata": {},
   "outputs": [
    {
     "name": "stdout",
     "output_type": "stream",
     "text": [
      "Enter any number:7\n",
      "The factorial of 7 is 5040\n"
     ]
    }
   ],
   "source": [
    "number = int(input(\"Enter any number:\"))\n",
    "if number < 0:\n",
    "    print(\"Factorial does not exist for negative numbers\")\n",
    "elif number == 0:\n",
    "    print(\"The factorial of 0 is 1\")\n",
    "else:\n",
    "    print(\"The factorial of\", number, \"is\", recursion_factorial(number))"
   ]
  },
  {
   "cell_type": "markdown",
   "metadata": {},
   "source": [
    "### Palindrome Test"
   ]
  },
  {
   "cell_type": "code",
   "execution_count": 48,
   "metadata": {},
   "outputs": [],
   "source": [
    "string = 'Yogesh'\n",
    "string2 = \"Racecar\"\n",
    "string3 = \"MADAM\""
   ]
  },
  {
   "cell_type": "code",
   "execution_count": 52,
   "metadata": {},
   "outputs": [],
   "source": [
    "#make it suitable for caseless comparison\n",
    "string = string.lower()\n",
    "string2 = string2.lower()\n",
    "string3 = string3.lower()"
   ]
  },
  {
   "cell_type": "code",
   "execution_count": 53,
   "metadata": {},
   "outputs": [],
   "source": [
    "#reverse the string\n",
    "rev_string = reversed(string)\n",
    "rev_string2 = reversed(string2)\n",
    "rev_string3 = reversed(string3)"
   ]
  },
  {
   "cell_type": "code",
   "execution_count": 54,
   "metadata": {},
   "outputs": [
    {
     "name": "stdout",
     "output_type": "stream",
     "text": [
      "The string is not a palindrome\n"
     ]
    }
   ],
   "source": [
    "if list(string) == list(rev_string):\n",
    "    print(\"The string is a palindrome\")\n",
    "else:\n",
    "    print(\"The string is not a palindrome\")"
   ]
  },
  {
   "cell_type": "code",
   "execution_count": 55,
   "metadata": {},
   "outputs": [
    {
     "name": "stdout",
     "output_type": "stream",
     "text": [
      "The string is a palindrome\n"
     ]
    }
   ],
   "source": [
    "if list(string2) == list(rev_string2):\n",
    "    print(\"The string is a palindrome\")\n",
    "else:\n",
    "    print(\"The string is not a palindrome\")"
   ]
  },
  {
   "cell_type": "code",
   "execution_count": 56,
   "metadata": {},
   "outputs": [
    {
     "name": "stdout",
     "output_type": "stream",
     "text": [
      "The string is a palindrome\n"
     ]
    }
   ],
   "source": [
    "if list(string3) == list(rev_string3):\n",
    "    print(\"The string is a palindrome\")\n",
    "else:\n",
    "    print(\"The string is not a palindrome\")"
   ]
  },
  {
   "cell_type": "code",
   "execution_count": 57,
   "metadata": {},
   "outputs": [],
   "source": [
    "def palindrome(string):\n",
    "    \n",
    "    string_lower = string.lower()\n",
    "    rev_string = reversed(string_lower)\n",
    "    \n",
    "    if list(string_lower) == list(rev_string):\n",
    "        print(string, \": This is a palindrome.\")\n",
    "    else:\n",
    "        print(string, \": This is not palindrome.\")"
   ]
  },
  {
   "cell_type": "code",
   "execution_count": 58,
   "metadata": {},
   "outputs": [
    {
     "name": "stdout",
     "output_type": "stream",
     "text": [
      "Racecare : This is not palindrome.\n"
     ]
    }
   ],
   "source": [
    "palindrome(\"Racecare\")"
   ]
  },
  {
   "cell_type": "code",
   "execution_count": 59,
   "metadata": {},
   "outputs": [
    {
     "name": "stdout",
     "output_type": "stream",
     "text": [
      "Racecar : This is a palindrome.\n"
     ]
    }
   ],
   "source": [
    "palindrome(\"Racecar\")"
   ]
  },
  {
   "cell_type": "code",
   "execution_count": 60,
   "metadata": {},
   "outputs": [
    {
     "name": "stdout",
     "output_type": "stream",
     "text": [
      "Enter a word:Yogesh\n",
      "Yogesh : This is not palindrome.\n"
     ]
    }
   ],
   "source": [
    "string = str(input(\"Enter a word:\"))\n",
    "palindrome(string)"
   ]
  },
  {
   "cell_type": "markdown",
   "metadata": {},
   "source": [
    "**One more way of checking palindrome**"
   ]
  },
  {
   "cell_type": "code",
   "execution_count": 63,
   "metadata": {},
   "outputs": [],
   "source": [
    "def palindrome1(string):\n",
    "    if string == string[::-1]:\n",
    "        print(\"This is a palindrome\")\n",
    "    else:\n",
    "        print(\"This is not a palindrome\")"
   ]
  },
  {
   "cell_type": "code",
   "execution_count": 66,
   "metadata": {},
   "outputs": [
    {
     "name": "stdout",
     "output_type": "stream",
     "text": [
      "This is not a palindrome\n"
     ]
    }
   ],
   "source": [
    "palindrome1(\"Racecar\")"
   ]
  },
  {
   "cell_type": "code",
   "execution_count": 67,
   "metadata": {
    "scrolled": true
   },
   "outputs": [
    {
     "name": "stdout",
     "output_type": "stream",
     "text": [
      "This is a palindrome\n"
     ]
    }
   ],
   "source": [
    "palindrome1(\"racecar\")"
   ]
  },
  {
   "cell_type": "markdown",
   "metadata": {},
   "source": [
    "Can you see the error in above example, we need to lowercase as well"
   ]
  },
  {
   "cell_type": "code",
   "execution_count": 68,
   "metadata": {},
   "outputs": [],
   "source": [
    "def palindrome2(string):\n",
    "    if string.lower() == string[::-1].lower():\n",
    "        print(\"This is a palindrome\")\n",
    "    else:\n",
    "        print(\"This is not a palindrome\")"
   ]
  },
  {
   "cell_type": "code",
   "execution_count": 69,
   "metadata": {},
   "outputs": [
    {
     "name": "stdout",
     "output_type": "stream",
     "text": [
      "This is a palindrome\n"
     ]
    }
   ],
   "source": [
    "palindrome2(\"Racecar\")"
   ]
  },
  {
   "cell_type": "markdown",
   "metadata": {},
   "source": [
    "#### Now Palindrome test using Recursion"
   ]
  },
  {
   "cell_type": "code",
   "execution_count": 72,
   "metadata": {},
   "outputs": [],
   "source": [
    "def is_palindrome(s):\n",
    "    \n",
    "    s = s.lower()\n",
    "    \n",
    "    if len(s) < 1:\n",
    "        return True\n",
    "    else:\n",
    "        if s[0] == s[-1]:\n",
    "            return is_palindrome(s[1:-1])\n",
    "        else:\n",
    "            return False"
   ]
  },
  {
   "cell_type": "code",
   "execution_count": 73,
   "metadata": {},
   "outputs": [
    {
     "name": "stdout",
     "output_type": "stream",
     "text": [
      "Enter string:Racecar\n",
      "String is a palindrome!\n"
     ]
    }
   ],
   "source": [
    "a = str(input(\"Enter string:\"))\n",
    "\n",
    "if(is_palindrome(a)==True):\n",
    "    print(\"String is a palindrome!\")\n",
    "else:\n",
    "    print(\"String isn't a palindrome!\")"
   ]
  },
  {
   "cell_type": "markdown",
   "metadata": {},
   "source": [
    "### Finding power of a number using recursion"
   ]
  },
  {
   "cell_type": "code",
   "execution_count": 8,
   "metadata": {},
   "outputs": [],
   "source": [
    "def power(base,exp):\n",
    "    if exp == 0:\n",
    "        return \"1\"\n",
    "    elif exp == 1:\n",
    "        return base\n",
    "    elif exp > 0:\n",
    "        return (base*(power(base, exp-1)))\n",
    "    elif exp < 0:\n",
    "        exp2 = -1*exp\n",
    "        number = base*(power(base, exp2-1))\n",
    "        return ( 1/number )"
   ]
  },
  {
   "cell_type": "code",
   "execution_count": 9,
   "metadata": {},
   "outputs": [
    {
     "data": {
      "text/plain": [
       "4"
      ]
     },
     "execution_count": 9,
     "metadata": {},
     "output_type": "execute_result"
    }
   ],
   "source": [
    "power(2,2)"
   ]
  },
  {
   "cell_type": "code",
   "execution_count": 10,
   "metadata": {},
   "outputs": [
    {
     "data": {
      "text/plain": [
       "0.25"
      ]
     },
     "execution_count": 10,
     "metadata": {},
     "output_type": "execute_result"
    }
   ],
   "source": [
    "power(2,-2)"
   ]
  },
  {
   "cell_type": "code",
   "execution_count": 14,
   "metadata": {},
   "outputs": [
    {
     "name": "stdout",
     "output_type": "stream",
     "text": [
      "Enter a number:5\n",
      "Enter its power:3\n"
     ]
    },
    {
     "data": {
      "text/plain": [
       "125"
      ]
     },
     "execution_count": 14,
     "metadata": {},
     "output_type": "execute_result"
    }
   ],
   "source": [
    "num = int(input(\"Enter a number:\"))\n",
    "num_2 = int(input(\"Enter its power:\"))\n",
    "power(num, num_2)"
   ]
  },
  {
   "cell_type": "markdown",
   "metadata": {},
   "source": [
    "### Multiple Recursion with the Sierpinski\n",
    "\n",
    "Read here: https://www.geeksforgeeks.org/python-sierpinski-carpet/"
   ]
  },
  {
   "cell_type": "code",
   "execution_count": 37,
   "metadata": {},
   "outputs": [],
   "source": [
    "# importing necessary modules \n",
    "import numpy as np \n",
    "from PIL import Image \n",
    "  \n",
    "# total number of times the process will be repeated \n",
    "total =7\n",
    "  \n",
    "# size of the image \n",
    "size = 3**total \n",
    "  \n",
    "# creating an image \n",
    "square = np.empty([size, size, 3], dtype = np.uint8) \n",
    "color = np.array([255, 255, 255], dtype = np.uint8) \n",
    "  \n",
    "# filling it black \n",
    "square.fill(0) \n",
    "  \n",
    "for i in range(0, total + 1): \n",
    "    stepdown = 3**(total - i) \n",
    "    for x in range(0, 3**i): \n",
    "          \n",
    "        # checking for the centremost square \n",
    "        if x % 3 == 1: \n",
    "            for y in range(0, 3**i): \n",
    "                if y % 3 == 1: \n",
    "                      \n",
    "                    # changing its color \n",
    "                    square[y * stepdown:(y + 1)*stepdown, x * stepdown:(x + 1)*stepdown] = color \n",
    "  \n",
    "# saving the image produced \n",
    "save_file = \"sierpinski.jpg\"\n",
    "Image.fromarray(square).save(save_file) \n",
    "  \n",
    "# displaying it in console \n",
    "i = Image.open(\"sierpinski.jpg\") \n",
    "i.show()"
   ]
  },
  {
   "cell_type": "markdown",
   "metadata": {},
   "source": [
    "<img src=\"sierpinski.jpg\">"
   ]
  },
  {
   "cell_type": "markdown",
   "metadata": {},
   "source": [
    "https://www.youtube.com/watch?v=v-UuIBkpVCo"
   ]
  },
  {
   "cell_type": "markdown",
   "metadata": {},
   "source": [
    "### Fibonacci Numbers\n",
    "\n",
    "The Fibonacci sequence is a famous series of numbers where the next number in the sequence is the sum of the previous 2 numbers. The first two numbers in the sequence are defined as 000 and 111. After that, the next number is 111 (from 0 + 10+10, plus, 1) and the number after that is 222 (from 1 + 11+11, plus, 1), and so on.\n",
    "\n",
    "**The first 10 Fibonacci numbers:\n",
    "0, 1, 1, 2, 3, 5, 8, 13, 21, 34**\n",
    "\n",
    "A simple recursive function for generating the nnn-th Fibonacci number looks like this:\n",
    "1. If **n** is 0 or 1, return **n**\n",
    "2. Otherwise, return fibonacci(n -1) + fibonacci(n - 2)"
   ]
  },
  {
   "cell_type": "code",
   "execution_count": 22,
   "metadata": {},
   "outputs": [],
   "source": [
    "def fibonacci(n):\n",
    "    if n == 0 or n == 1:\n",
    "        return n\n",
    "    else:\n",
    "        return fibonacci(n-1) + fibonacci(n-2)"
   ]
  },
  {
   "cell_type": "code",
   "execution_count": 29,
   "metadata": {},
   "outputs": [
    {
     "name": "stdout",
     "output_type": "stream",
     "text": [
      "1\n",
      "1\n",
      "2\n",
      "3\n",
      "5\n",
      "8\n",
      "13\n",
      "21\n",
      "34\n"
     ]
    }
   ],
   "source": [
    "for n in range (1,10):\n",
    "    print(fibonacci(n))"
   ]
  },
  {
   "cell_type": "markdown",
   "metadata": {},
   "source": [
    "<img src=\"image2.png\">"
   ]
  },
  {
   "cell_type": "code",
   "execution_count": 38,
   "metadata": {},
   "outputs": [
    {
     "data": {
      "text/plain": [
       "5"
      ]
     },
     "execution_count": 38,
     "metadata": {},
     "output_type": "execute_result"
    }
   ],
   "source": [
    "fibonacci(5)"
   ]
  },
  {
   "cell_type": "markdown",
   "metadata": {},
   "source": [
    "This algorithm is an example of multiple recursion since it calls itself multiple times. To understand the multiple calls that the computer makes, it helps to visualize the calls as a tree.\n",
    "\n",
    "When n=5,the computer makes 15 calls:\n"
   ]
  },
  {
   "cell_type": "markdown",
   "metadata": {},
   "source": [
    "#### Read about Improving Efficiency of Recursive functions\n",
    "https://www.khanacademy.org/computing/computer-science/algorithms/recursive-algorithms/a/improving-efficiency-of-recursive-functions\n"
   ]
  },
  {
   "cell_type": "markdown",
   "metadata": {},
   "source": [
    "### Towers of Hanoi (Recursion)\n",
    "https://youtu.be/YstLjLCGmgg\n",
    "\n",
    "https://www.geeksforgeeks.org/c-program-for-tower-of-hanoi/\n",
    "\n",
    "https://www.khanacademy.org/computing/computer-science/algorithms#towers-of-hanoi"
   ]
  },
  {
   "cell_type": "code",
   "execution_count": 42,
   "metadata": {},
   "outputs": [],
   "source": [
    "#this is wrong (find out why)\n",
    "def MoveTower(disk, source, dest, spare):\n",
    "    if disk == 1:\n",
    "        print (\"Move disk1 from source\", source, \"to destination\", dest)\n",
    "        \n",
    "    else:\n",
    "        MoveTower(disk-1, source, spare, dest)\n",
    "        print (\"Move disk\", disk, \"from source\", source, \"to destination\", dest)\n",
    "        \n",
    "    MoveTower(disk-1, spare, dest, source)"
   ]
  },
  {
   "cell_type": "code",
   "execution_count": 45,
   "metadata": {},
   "outputs": [],
   "source": [
    "#this is correct, find out why\n",
    "def TowerOfHanoi(n , from_rod, to_rod, aux_rod): \n",
    "    if n == 1: \n",
    "        print (\"Move disk 1 from rod\",from_rod,\"to rod\",to_rod)\n",
    "        return\n",
    "    TowerOfHanoi(n-1, from_rod, aux_rod, to_rod) \n",
    "    print (\"Move disk\",n,\"from rod\",from_rod,\"to rod\",to_rod) \n",
    "    TowerOfHanoi(n-1, aux_rod, to_rod, from_rod)"
   ]
  },
  {
   "cell_type": "code",
   "execution_count": 46,
   "metadata": {},
   "outputs": [
    {
     "name": "stdout",
     "output_type": "stream",
     "text": [
      "Move disk 1 from rod A to rod B\n",
      "Move disk 2 from rod A to rod C\n",
      "Move disk 1 from rod B to rod C\n",
      "Move disk 3 from rod A to rod B\n",
      "Move disk 1 from rod C to rod A\n",
      "Move disk 2 from rod C to rod B\n",
      "Move disk 1 from rod A to rod B\n",
      "Move disk 4 from rod A to rod C\n",
      "Move disk 1 from rod B to rod C\n",
      "Move disk 2 from rod B to rod A\n",
      "Move disk 1 from rod C to rod A\n",
      "Move disk 3 from rod B to rod C\n",
      "Move disk 1 from rod A to rod B\n",
      "Move disk 2 from rod A to rod C\n",
      "Move disk 1 from rod B to rod C\n"
     ]
    }
   ],
   "source": [
    "TowerOfHanoi(4, 'A','C','B')"
   ]
  },
  {
   "cell_type": "code",
   "execution_count": null,
   "metadata": {},
   "outputs": [],
   "source": []
  }
 ],
 "metadata": {
  "kernelspec": {
   "display_name": "Python 3",
   "language": "python",
   "name": "python3"
  },
  "language_info": {
   "codemirror_mode": {
    "name": "ipython",
    "version": 3
   },
   "file_extension": ".py",
   "mimetype": "text/x-python",
   "name": "python",
   "nbconvert_exporter": "python",
   "pygments_lexer": "ipython3",
   "version": "3.7.1"
  }
 },
 "nbformat": 4,
 "nbformat_minor": 1
}